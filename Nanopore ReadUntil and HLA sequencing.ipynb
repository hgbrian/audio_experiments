{
 "cells": [
  {
   "cell_type": "markdown",
   "metadata": {},
   "source": [
    "The question addressed here is, if we are using ReadUntil and human genomic DNA with no amplification, can we achieve reasonable coverage of the HLA region."
   ]
  },
  {
   "cell_type": "code",
   "execution_count": 120,
   "metadata": {
    "collapsed": true
   },
   "outputs": [],
   "source": [
    "human_genome_size = 3e9\n",
    "hla_size = 3.6e6                   # classical MHC is 3.6Mb\n",
    "readuntil_thresh = 250             # events until readuntil kicks in, which is ~= bases\n",
    "max_num_pores = 512                # only pores, i am not modeling channels since remuxing happens after 24hr\n",
    "read_bases_per_second = 250        # R9\n",
    "num_active_pores = 350             # empirical, out of 512\n",
    "p_dna_in_pore = 0.01               # empirical, no idea what this should be\n",
    "p_pore_blocked = 0.001             # empirical, after a read goes through, it might get blocked"
   ]
  },
  {
   "cell_type": "code",
   "execution_count": 121,
   "metadata": {
    "collapsed": false
   },
   "outputs": [
    {
     "name": "stdout",
     "output_type": "stream",
     "text": [
      "Fraction of reads that will overlap HLA: 0.0012\n"
     ]
    }
   ],
   "source": [
    "p_hla = hla_size / human_genome_size\n",
    "def is_hla():\n",
    "    return np.random.random() < p_hla\n",
    "print(\"Fraction of reads that will overlap HLA: {:.3g}\".format(p_hla))"
   ]
  },
  {
   "cell_type": "code",
   "execution_count": 283,
   "metadata": {
    "collapsed": false
   },
   "outputs": [
    {
     "name": "stdout",
     "output_type": "stream",
     "text": [
      "The line_profiler extension is already loaded. To reload it, use:\n",
      "  %reload_ext line_profiler\n"
     ]
    }
   ],
   "source": [
    "import logging\n",
    "import numpy as np\n",
    "import matplotlib.pyplot as plt\n",
    "from collections import namedtuple\n",
    "from itertools import count\n",
    "from heapq import heappop, heappush\n",
    "\n",
    "%matplotlib inline\n",
    "%load_ext line_profiler\n",
    "%config InlineBackend.figure_format = 'retina'"
   ]
  },
  {
   "cell_type": "markdown",
   "metadata": {},
   "source": [
    "DNA fragment lengths\n",
    "--------------------\n",
    "In this simulation, readlength is identical to the lengths of DNA in solution (i.e., each DNA fragment is read in its entirety)"
   ]
  },
  {
   "cell_type": "code",
   "execution_count": 216,
   "metadata": {
    "collapsed": false
   },
   "outputs": [
    {
     "name": "stdout",
     "output_type": "stream",
     "text": [
      "mean readlength: 12474, std: 13802\n"
     ]
    },
    {
     "data": {
      "image/png": "[encoded data removed]",
      "text/plain": [
       "<matplotlib.figure.Figure at 0x11063dc18>"
      ]
     },
     "metadata": {
      "image/png": {
       "height": 323,
       "width": 943
      }
     },
     "output_type": "display_data"
    }
   ],
   "source": [
    "dna_lens = np.random.lognormal(9,1,1000).astype(np.int)\n",
    "print(\"mean readlength: {:d}, std: {:d}\".format(int(dna_lens.mean()), int(dna_lens.std())))\n",
    "\n",
    "fig, ax = plt.subplots(1, 1, figsize=(16,5))\n",
    "ax.set_xlim(0,100000)\n",
    "ax.set_title(\"DNA fragment lengths\")\n",
    "_ = ax.hist(dna_lens, bins=200)"
   ]
  },
  {
   "cell_type": "markdown",
   "metadata": {},
   "source": [
    "Simulation\n",
    "--------------\n",
    "Simulate events using a priority queue."
   ]
  },
  {
   "cell_type": "code",
   "execution_count": 295,
   "metadata": {
    "collapsed": false
   },
   "outputs": [],
   "source": [
    "def time_to_load_dna_gen():\n",
    "    N = 10000\n",
    "    times = np.random.lognormal(3,1,size=N)\n",
    "    print(\"Avg time to load DNA:\\t{:.1f}s\".format( np.mean(times) ))\n",
    "    assert np.all(times>0), \"lognormal should not return values <=0\"\n",
    "    yield from (times[i%N] for i in count())   \n",
    "time_to_load_dna = time_to_load_dna_gen()\n",
    "\n",
    "def new_dna_len_gen():\n",
    "    N = 10000\n",
    "    dna_lens = np.random.lognormal(9,1,size=N).astype(np.int)\n",
    "    print(\"Avg DNA fragment length:\\t{:.0f}\".format( np.mean(dna_lens) ))\n",
    "    assert np.all(dna_lens>0), \"lognormal should not return values <=0\"\n",
    "    yield from (dna_lens[i%N] for i in count())\n",
    "new_dna_len = new_dna_len_gen()\n",
    "\n",
    "def time_to_read_dna(dna_len):\n",
    "    return dna_len / read_bases_per_second\n",
    "\n",
    "def is_blocked():\n",
    "    return np.random.random() < p_pore_blocked\n",
    "\n",
    "Event = namedtuple(\"event\", ['time', 'pore', 'type', 'dna_len'])\n",
    "class Task(object): # do not use Enum since it is unordered so breaks heap\n",
    "    NOTHING, FOUND_DNA, DO_READUNTIL, END_READ = range(4)\n",
    "\n",
    "def run_sim(run_hours, READUNTIL_HLA=True):\n",
    "    queue = []\n",
    "    def enqueue(this_time, prev_time, pore, etype, dna_len):\n",
    "        heappush(queue, Event(this_time + prev_time, pore, etype, dna_len))\n",
    "    \n",
    "    run_time_sec = run_hours * 60 * 60    \n",
    "    total_reads = []\n",
    "    total_hla_reads = []\n",
    "    total_pores_blocked = 0\n",
    "    \n",
    "    for i in range(num_active_pores):\n",
    "        enqueue(next(time_to_load_dna), 0, i, Task.FOUND_DNA, None)\n",
    "    \n",
    "    while True:\n",
    "        if len(queue) == 0:\n",
    "            logging.warning(\"Empty queue (no active pores remain!)\")\n",
    "            break\n",
    "        \n",
    "        is_end_of_read = False\n",
    "        event = heappop(queue)\n",
    "\n",
    "        if event.time > run_time_sec:\n",
    "            # cleanup()?\n",
    "            break\n",
    "        \n",
    "        if event.type == Task.FOUND_DNA:\n",
    "            dna_len = next(new_dna_len)\n",
    "            if READUNTIL_HLA:\n",
    "                enqueue(time_to_read_dna(readuntil_thresh), event.time, event.pore, Task.DO_READUNTIL, dna_len)\n",
    "            else:\n",
    "                enqueue(time_to_read_dna(dna_len), event.time, event.pore, Task.END_READ, dna_len)\n",
    "        elif event.type == Task.DO_READUNTIL:\n",
    "            if is_hla():\n",
    "                enqueue(time_to_read_dna(max(0,event.dna_len-readuntil_thresh)), event.time, event.pore, Task.END_READ, event.dna_len)\n",
    "            else:\n",
    "                total_reads.append(readuntil_thresh)\n",
    "                is_end_of_read = True\n",
    "        elif event.type == Task.END_READ:\n",
    "            total_reads.append(event.dna_len)\n",
    "            total_hla_reads.append(event.dna_len)\n",
    "            is_end_of_read = True\n",
    "        else:\n",
    "            raise ValueError(\"unknown Task\")\n",
    "    \n",
    "        if is_end_of_read:\n",
    "            if not is_blocked():\n",
    "                enqueue(next(time_to_load_dna), event.time, event.pore, Task.FOUND_DNA, None)\n",
    "            else:\n",
    "                total_pores_blocked += 1\n",
    "    \n",
    "    print(\"\\n[{:.1f} hour expt{}]\".format(run_hours, \" (HLA)\" if READUNTIL_HLA else \"\"))\n",
    "    print(\"Total DNA read:\\t\\t{:d} bases ({:.1f} Mb) in {:d} reads\".format(sum(total_reads), sum(total_reads)/1e6, len(total_reads)))\n",
    "    print(\"Total pores blocked:\\t{:d} / {:d}\".format(total_pores_blocked, num_active_pores))\n",
    "    if READUNTIL_HLA:\n",
    "        tot_hla = int(sum(total_hla_reads))\n",
    "        print(\"HLA: total DNA read:\\t{:d} bases ({:.1f} Mb) in {:d} reads ({:.1f}X coverage)\".format(\n",
    "            tot_hla,tot_hla/1e6,len(total_hla_reads),tot_hla/hla_size))\n",
    "        print(\"HLA: reads ejected:\\t{:d}\".format(len(total_reads) - len(total_hla_reads)))"
   ]
  },
  {
   "cell_type": "code",
   "execution_count": 296,
   "metadata": {
    "collapsed": false
   },
   "outputs": [
    {
     "name": "stdout",
     "output_type": "stream",
     "text": [
      "Avg time to load DNA:\t33.5s\n",
      "Avg DNA fragment length:\t13352\n",
      "\n",
      "[24.0 hour expt]\n",
      "Total DNA read:\t\t2804545240 bases (2804.5 Mb) in 210173 reads\n",
      "Total pores blocked:\t227 / 350\n",
      "CPU times: user 2.19 s, sys: 8.76 ms, total: 2.2 s\n",
      "Wall time: 2.2 s\n",
      "\n",
      "[24.0 hour expt (HLA)]\n",
      "Total DNA read:\t\t79924429 bases (79.9 Mb) in 298082 reads\n",
      "Total pores blocked:\t328 / 350\n",
      "HLA: total DNA read:\t5494929 bases (5.5 Mb) in 364 reads (1.5X coverage)\n",
      "HLA: reads ejected:\t297718\n",
      "CPU times: user 3.09 s, sys: 5.76 ms, total: 3.09 s\n",
      "Wall time: 3.09 s\n"
     ]
    }
   ],
   "source": [
    "%time run_sim(run_hours=24, READUNTIL_HLA=False)\n",
    "%time run_sim(run_hours=24, READUNTIL_HLA=True)"
   ]
  },
  {
   "cell_type": "markdown",
   "metadata": {},
   "source": [
    "Old version\n",
    "-----------"
   ]
  },
  {
   "cell_type": "code",
   "execution_count": 128,
   "metadata": {
    "collapsed": false
   },
   "outputs": [],
   "source": [
    "randf = np.random.random\n",
    "randi = np.random.randint\n",
    "\n",
    "def run(run_hours=1, READUNTIL_HLA=False):\n",
    "    BROKEN, AVAILABLE = -1, 0\n",
    "    PORE, READ, IS_HLA_DNA = 0, 1, 2\n",
    "    pores = np.zeros((max_num_pores,3), np.int32)\n",
    "    pores[:,PORE] = BROKEN\n",
    "    pores[:num_active_pores,PORE] = AVAILABLE\n",
    "\n",
    "    total_dna_read = []\n",
    "    total_hla_dna_read = []\n",
    "    total_pores_blocked = 0\n",
    "    total_ejected_hla = 0\n",
    "    \n",
    "    run_secs = int(round(run_hours * 60 * 60))\n",
    "\n",
    "    for sec in range(run_secs):\n",
    "        for n in range(pores.shape[0])[:num_active_pores]:\n",
    "            if pores[n,PORE] == BROKEN:\n",
    "                continue\n",
    "\n",
    "            # The Pore has pores[n,PORE] bases of DNA in it\n",
    "            if pores[n,PORE] > 0: \n",
    "                bases_read_this_sec = read_bases_per_second - 10 + randi(20)\n",
    "                pores[n,READ] += bases_read_this_sec\n",
    "                pores[n,PORE] = pores[n,PORE] - bases_read_this_sec\n",
    "                total_dna_read.append(bases_read_this_sec) # a slight approximation\n",
    "\n",
    "                # If it's not HLA, then eject it\n",
    "                if READUNTIL_HLA and pores[n,IS_HLA_DNA] == 0 and pores[n,READ] > readuntil_thresh: \n",
    "                    pores[n,PORE] = AVAILABLE\n",
    "                    total_ejected_hla += 1\n",
    "\n",
    "                # End of read, reset everything\n",
    "                if pores[n,PORE] == AVAILABLE or pores[n,PORE] < 0: \n",
    "                    pores[n,PORE] = AVAILABLE\n",
    "                    pores[n,READ] = 0\n",
    "                    pores[n,IS_HLA_DNA] = 0\n",
    "\n",
    "                    # After each read ends, there is a chance to get blocked\n",
    "                    if randf() < p_pore_blocked:\n",
    "                        pores[n,PORE] = BROKEN\n",
    "                        total_pores_blocked += 1\n",
    "\n",
    "            # Pore is empty, check for new DNA\n",
    "            if pores[n,PORE] == AVAILABLE:\n",
    "                if randf() < p_dna_in_pore: \n",
    "                    pores[n,PORE] = int(readlength.rvs())\n",
    "\n",
    "                    if READUNTIL_HLA and is_hla():\n",
    "                        total_hla_dna_read.append(pores[n,PORE]) # slight approximation\n",
    "                        pores[n,IS_HLA_DNA] = 1\n",
    "            \n",
    "        assert np.all(pores[:,PORE] >= -1) and np.all(pores[:,READ] >= 0), pores[n]\n",
    "    \n",
    "    print(\"End of experiment after {:.1f} hours\".format(run_hours))\n",
    "    print(\"Total DNA read: {:d} bases in {:d} reads ({:.1f} Mb)\".format(sum(total_dna_read), len(total_dna_read), sum(total_dna_read)/1e6))\n",
    "    print(\"Total pores blocked: {:d} / {:d}\".format(total_pores_blocked, num_active_pores))\n",
    "    if READUNTIL_HLA:\n",
    "        tot_hla = sum(total_hla_dna_read)\n",
    "        print(\"HLA\\n---\")\n",
    "        print(\"Total HLA DNA read: {:d} ({:.1f} Mb) in {:d} reads ({:.1f}X coverage)\".format(\n",
    "            tot_hla,tot_hla/1e6,len(total_hla_dna_read),tot_hla/hla_size))\n",
    "        print(\"Total reads ejected for not being HLA: {:d}\".format(total_ejected_hla))"
   ]
  }
 ],
 "metadata": {
  "kernelspec": {
   "display_name": "Python 3",
   "language": "python",
   "name": "python3"
  },
  "language_info": {
   "codemirror_mode": {
    "name": "ipython",
    "version": 3
   },
   "file_extension": ".py",
   "mimetype": "text/x-python",
   "name": "python",
   "nbconvert_exporter": "python",
   "pygments_lexer": "ipython3",
   "version": "3.5.1"
  }
 },
 "nbformat": 4,
 "nbformat_minor": 0
}
