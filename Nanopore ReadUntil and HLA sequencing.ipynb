{
 "cells": [
  {
   "cell_type": "code",
   "execution_count": 224,
   "metadata": {
    "collapsed": true
   },
   "outputs": [],
   "source": [
    "human_genome_size = 3e9\n",
    "hla_size = 3.6e6                   # classical MHC is 3.6Mb\n",
    "readuntil_thresh = 250             # events, which is ~= bases\n",
    "max_num_pores = 512                # only pores, i am not modeling channels\n",
    "p_dna_in_pore = 0.01               # empirical, no idea what this should be\n",
    "read_bases_per_second = 250        # R9\n",
    "num_active_pores = 350             # out of 512\n",
    "p_pore_blocked = 0.002             # empirical, after a read goes through, it might get blocked"
   ]
  },
  {
   "cell_type": "code",
   "execution_count": 176,
   "metadata": {
    "collapsed": false
   },
   "outputs": [
    {
     "name": "stdout",
     "output_type": "stream",
     "text": [
      "Fraction of reads that will hit HLA: 0.0012\n"
     ]
    }
   ],
   "source": [
    "p_hla = hla_size / human_genome_size\n",
    "def is_hla():\n",
    "    return np.random.random() < p_hla\n",
    "print(\"Fraction of reads that will overlap HLA: {:.3g}\".format(p_hla))"
   ]
  },
  {
   "cell_type": "code",
   "execution_count": 213,
   "metadata": {
    "collapsed": true
   },
   "outputs": [],
   "source": [
    "import numpy as np\n",
    "import numba\n",
    "import matplotlib.pyplot as plt\n",
    "import scipy.stats\n",
    "%matplotlib inline"
   ]
  },
  {
   "cell_type": "code",
   "execution_count": 199,
   "metadata": {
    "collapsed": false
   },
   "outputs": [
    {
     "name": "stdout",
     "output_type": "stream",
     "text": [
      "mean: 11639, std: 15120\n"
     ]
    },
    {
     "data": {
      "image/png": "[encoded data removed]",
      "text/plain": [
       "<matplotlib.figure.Figure at 0x1094d4150>"
      ]
     },
     "metadata": {},
     "output_type": "display_data"
    }
   ],
   "source": [
    "readlength = scipy.stats.lognorm(s=1, loc=1, scale=7000)\n",
    "rv = readlength.rvs(1000)\n",
    "print(\"mean: {:d}, std: {:d}\".format(int(rv.mean()), int(rv.std())))\n",
    "\n",
    "fig, ax = plt.subplots(1, 1, figsize=(16,5))\n",
    "ax.set_xlim(0,100000)\n",
    "ax.set_title(\"read lengths\")\n",
    "_ = ax.hist(rv, bins=100)"
   ]
  },
  {
   "cell_type": "code",
   "execution_count": 227,
   "metadata": {
    "collapsed": false
   },
   "outputs": [],
   "source": [
    "#@numba.jit\n",
    "def run(run_hours=1, READUNTIL_HLA=False):\n",
    "    BROKEN, AVAILABLE = -1, 0\n",
    "    PORE, READ, IS_HLA_DNA = 0, 1, 2\n",
    "    pores = np.zeros((max_num_pores,3), np.int32)\n",
    "    pores[:,PORE] = BROKEN\n",
    "    pores[:num_active_pores,PORE] = AVAILABLE\n",
    "\n",
    "    total_dna_read = []\n",
    "    total_hla_dna_read = []\n",
    "    total_pores_blocked = 0\n",
    "    total_ejected_hla = 0\n",
    "    \n",
    "    run_secs = int(round(run_hours * 60 * 60))\n",
    "\n",
    "    for sec in range(run_secs):\n",
    "        for n in range(pores.shape[0]):\n",
    "            if pores[n,PORE] == BROKEN:\n",
    "                continue\n",
    "\n",
    "            # The Pore has pores[n,PORE] bases of DNA in it\n",
    "            if pores[n,PORE] > 0: \n",
    "                bases_read_this_sec = read_bases_per_second - 10 + np.random.randint(20)\n",
    "                pores[n,READ] += bases_read_this_sec\n",
    "                pores[n,PORE] = pores[n,PORE] - bases_read_this_sec\n",
    "                total_dna_read.append(bases_read) # a slight approximation\n",
    "\n",
    "                # If it's not HLA, then eject it\n",
    "                if READUNTIL_HLA and pores[n,IS_HLA_DNA] == 0 and pores[n,READ] > readuntil_thresh: \n",
    "                    pores[n,PORE] = AVAILABLE\n",
    "                    total_ejected_hla += 1\n",
    "\n",
    "                # End of read, reset everything\n",
    "                if pores[n,PORE] == AVAILABLE or pores[n,PORE] < 0: \n",
    "                    pores[n,PORE] = AVAILABLE\n",
    "                    pores[n,READ] = 0\n",
    "                    pores[n,IS_HLA_DNA] = 0\n",
    "\n",
    "                    # After each read ends, there is a chance to get blocked\n",
    "                    if np.random.random() < p_pore_blocked:\n",
    "                        pores[n,PORE] = BROKEN\n",
    "                        total_pores_blocked += 1\n",
    "\n",
    "            # Pore is empty, check for new DNA\n",
    "            if pores[n,PORE] == AVAILABLE:\n",
    "                if np.random.random() < p_dna_in_pore: \n",
    "                    pores[n,PORE] = int(readlength.rvs())\n",
    "\n",
    "                    if READUNTIL_HLA and is_hla():\n",
    "                        total_hla_dna_read.append(pores[n,PORE]) # slight approximation\n",
    "                        pores[n,IS_HLA_DNA] = 1\n",
    "\n",
    "            assert pores[n,PORE] >= -1 and pores[n,READ] >= 0, pores[n]\n",
    "    \n",
    "    print(\"End of experiment after {:.1f} hours\".format(run_hours))\n",
    "    print(\"Total DNA read: {:d} bases ({:.1f} Mb)\".format(sum(total_dna_read), sum(total_dna_read)/1e6))\n",
    "    print(\"Total pores blocked: {:d} / {:d}\".format(total_pores_blocked, num_active_pores))\n",
    "    if READUNTIL_HLA:\n",
    "        print(\"HLA\\n---\")\n",
    "        print(\"Total HLA DNA read: {:d} ({:.1f} Mb) in {:d} reads\".format(sum(total_hla_dna_read),\n",
    "                                                                          sum(total_hla_dna_read)/1e6, \n",
    "                                                                          len(total_hla_dna_read)))\n",
    "        print(\"Total reads ejected for not being HLA: {:d}\".format(total_ejected_hla))"
   ]
  },
  {
   "cell_type": "code",
   "execution_count": 229,
   "metadata": {
    "collapsed": false
   },
   "outputs": [
    {
     "name": "stdout",
     "output_type": "stream",
     "text": [
      "End of experiment after 1.0 hours\n",
      "Total DNA read: 93374486 bases (93.4 Mb)\n",
      "Total pores blocked: 17 / 350\n"
     ]
    }
   ],
   "source": [
    "run(run_hours=1, READUNTIL_HLA=False)"
   ]
  },
  {
   "cell_type": "code",
   "execution_count": 222,
   "metadata": {
    "collapsed": false
   },
   "outputs": [
    {
     "name": "stdout",
     "output_type": "stream",
     "text": [
      "End of experiment after 2.0 hours\n",
      "Total DNA read: 282206020 bases (282.2 Mb)\n",
      "Total pores blocked: 49 / 350\n"
     ]
    }
   ],
   "source": [
    "run(run_hours=2, READUNTIL_HLA=False)"
   ]
  },
  {
   "cell_type": "code",
   "execution_count": 223,
   "metadata": {
    "collapsed": false
   },
   "outputs": [
    {
     "name": "stdout",
     "output_type": "stream",
     "text": [
      "End of experiment after 2.0 hours\n",
      "Total DNA read: 17274535 bases (17.3 Mb)\n",
      "Total pores blocked: 91 / 350\n",
      "HLA\n",
      "---\n",
      "Total HLA DNA read: 593109 in 51 reads\n",
      "Total reads ejected for not being HLA: 43189\n"
     ]
    }
   ],
   "source": [
    "run(run_hours=2, READUNTIL_HLA=True)"
   ]
  }
 ],
 "metadata": {
  "kernelspec": {
   "display_name": "Python 3",
   "language": "python",
   "name": "python3"
  },
  "language_info": {
   "codemirror_mode": {
    "name": "ipython",
    "version": 3
   },
   "file_extension": ".py",
   "mimetype": "text/x-python",
   "name": "python",
   "nbconvert_exporter": "python",
   "pygments_lexer": "ipython3",
   "version": "3.3.5"
  }
 },
 "nbformat": 4,
 "nbformat_minor": 0
}
