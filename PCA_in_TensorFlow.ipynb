{
 "cells": [
  {
   "cell_type": "markdown",
   "metadata": {},
   "source": [
    "An extremely slow, numerically unstable PCA implementation in TensorFlow."
   ]
  },
  {
   "cell_type": "code",
   "execution_count": 8,
   "metadata": {
    "collapsed": false
   },
   "outputs": [],
   "source": [
    "import time\n",
    "import numpy as np\n",
    "from sklearn import decomposition\n",
    "import tensorflow as tf\n",
    "\n",
    "np.random.seed(5)\n",
    "%matplotlib inline"
   ]
  },
  {
   "cell_type": "code",
   "execution_count": 2,
   "metadata": {
    "collapsed": true
   },
   "outputs": [],
   "source": [
    "def tflow_pca(X, n_components, iters=5000):\n",
    "    \"\"\"Find the first n_components principal components of array X\"\"\"\n",
    "    def _norm(arr, axis=0):\n",
    "        return arr / np.linalg.norm(arr, ord=2, axis=axis)\n",
    "    \n",
    "    #\n",
    "    # Make covariance matrix to be placed in tensorflow placeholder X\n",
    "    #\n",
    "    orig_X = X[:].astype(np.float32)\n",
    "    X_mean = np.mean(orig_X, axis=0)\n",
    "    cov_X = np.cov((orig_X - X_mean).T)\n",
    "    X = tf.placeholder(tf.types.float32, shape=cov_X.shape)\n",
    "    \n",
    "    # store the results in store_pcs\n",
    "    store_pcs = [None for n in range(n_components)]\n",
    "    \n",
    "    #\n",
    "    # Create tensorflow vars and functions\n",
    "    #\n",
    "    pcs = tf.Variable(tf.random_uniform([cov_X.shape[0], 1], -1.0, 1.0))\n",
    "    X_s = tf.matmul(pcs, tf.transpose(pcs))\n",
    "    loss = tf.reduce_mean(tf.square(X-X_s))\n",
    "    optimizer = tf.train.GradientDescentOptimizer(0.5)\n",
    "    train = optimizer.minimize(loss)\n",
    "    \n",
    "    #\n",
    "    # Init tensorflow and run it\n",
    "    #\n",
    "    init = tf.initialize_all_variables()\n",
    "    sess = tf.Session()\n",
    "    sess.run(init)\n",
    "    \n",
    "    for n in range(n_components):\n",
    "        for step in xrange(0, iters):\n",
    "            sess.run(train, feed_dict={X:cov_X})\n",
    "        \n",
    "        store_pcs[n] = sess.run(pcs).T\n",
    "        estd_X = sess.run(X_s)\n",
    "        \n",
    "        assert np.dot(store_pcs[n].T, store_pcs[n]).shape == cov_X.shape\n",
    "        \n",
    "        store_pcs[n] = np.squeeze(_norm(store_pcs[n], axis=1))\n",
    "        \n",
    "        cov_X = cov_X - estd_X\n",
    "    \n",
    "    return store_pcs, np.dot(np.hstack(store_pcs), np.hstack(store_pcs).T)"
   ]
  },
  {
   "cell_type": "markdown",
   "metadata": {},
   "source": [
    "Make some data that should be easy to PCA."
   ]
  },
  {
   "cell_type": "code",
   "execution_count": 3,
   "metadata": {
    "collapsed": true
   },
   "outputs": [],
   "source": [
    "n_components = 3\n",
    "\n",
    "N, M = 1000, 4\n",
    "pad1 = np.random.random((N/2,M/4)); pad1.resize((N,M))\n",
    "pad2 = np.random.random((N/4,M/2)); pad2.resize((N,M))\n",
    "X = np.random.random((N,M)) + pad1 + pad2\n",
    "X[:,1] = -X[:,0]*np.random.random(X[:,0].shape)"
   ]
  },
  {
   "cell_type": "markdown",
   "metadata": {},
   "source": [
    "First run the standard [sklearn.decomposition.PCA](http://scikit-learn.org/stable/modules/generated/sklearn.decomposition.PCA.html) (probabilistic PCA)."
   ]
  },
  {
   "cell_type": "code",
   "execution_count": 4,
   "metadata": {
    "collapsed": false
   },
   "outputs": [
    {
     "name": "stdout",
     "output_type": "stream",
     "text": [
      "Ran sklearn.decomposition.PCA in 0.001 seconds\n"
     ]
    }
   ],
   "source": [
    "start_time = time.time()\n",
    "pca = decomposition.PCA(n_components=n_components)\n",
    "pca.fit(X)\n",
    "np_pcs = pca.components_\n",
    "print \"Ran sklearn.decomposition.PCA in {:.3f} seconds\".format(time.time() - start_time)"
   ]
  },
  {
   "cell_type": "markdown",
   "metadata": {},
   "source": [
    "Then run my TensorFlow version."
   ]
  },
  {
   "cell_type": "code",
   "execution_count": 5,
   "metadata": {
    "collapsed": false
   },
   "outputs": [
    {
     "name": "stdout",
     "output_type": "stream",
     "text": [
      "Ran tflow_pca in 8.929 seconds\n"
     ]
    }
   ],
   "source": [
    "start_time = time.time()\n",
    "tf_pcs, _prod = tflow_pca(X, n_components=n_components, iters=5000)\n",
    "print \"Ran tflow_pca in {:.3f} seconds\".format(time.time()-start_time)"
   ]
  },
  {
   "cell_type": "code",
   "execution_count": 7,
   "metadata": {
    "collapsed": false
   },
   "outputs": [
    {
     "name": "stdout",
     "output_type": "stream",
     "text": [
      "[-0.57982275  0.34963527 -0.47948609 -0.55825966] [ 0.5798223  -0.349635    0.4794865   0.55825996] close? True\n",
      "[ 0.56307907 -0.47916176 -0.47679008 -0.47541265] [ 0.56308001 -0.47916183 -0.47679517 -0.47540632] close? True\n",
      "[-0.02672209  0.02842147 -0.73505252  0.67688695] [ 0.0267279  -0.02842641  0.73504561 -0.67689401] close? True\n"
     ]
    }
   ],
   "source": [
    "assert len(tf_pcs) == len(np_pcs) == n_components\n",
    "\n",
    "for n in range(n_components):\n",
    "    print np_pcs[n], tf_pcs[n], \"close?\", \n",
    "    print np.allclose(np_pcs[n], tf_pcs[n], rtol=1e-3) or np.allclose(np_pcs[n], -tf_pcs[n], rtol=1e-3)"
   ]
  }
 ],
 "metadata": {
  "kernelspec": {
   "display_name": "Python 2",
   "language": "python",
   "name": "python2"
  },
  "language_info": {
   "codemirror_mode": {
    "name": "ipython",
    "version": 2
   },
   "file_extension": ".py",
   "mimetype": "text/x-python",
   "name": "python",
   "nbconvert_exporter": "python",
   "pygments_lexer": "ipython2",
   "version": "2.7.10"
  }
 },
 "nbformat": 4,
 "nbformat_minor": 0
}
